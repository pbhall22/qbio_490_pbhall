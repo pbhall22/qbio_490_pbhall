{
 "cells": [
  {
   "cell_type": "code",
   "execution_count": 153,
   "id": "d960b4f9",
   "metadata": {},
   "outputs": [],
   "source": [
    "import os\n",
    "os.chdir('/Users/peytonhall/Documents/qbio_490_pbhall/analysis_data')\n",
    "import cptac\n",
    "import numpy as np"
   ]
  },
  {
   "cell_type": "code",
   "execution_count": 154,
   "id": "b974c6f4",
   "metadata": {},
   "outputs": [
    {
     "name": "stdout",
     "output_type": "stream",
     "text": [
      "Below are the dataframes contained in this dataset and their dimensions:\n",
      "\n",
      "clinical\n",
      "\t194 rows\n",
      "\t171 columns\n",
      "CNV\n",
      "\t110 rows\n",
      "\t19285 columns\n",
      "followup\n",
      "\t352 rows\n",
      "\t27 columns\n",
      "medical_history\n",
      "\t370 rows\n",
      "\t4 columns\n",
      "methylation\n",
      "\t107 rows\n",
      "\t15885 columns\n",
      "phosphoproteomics\n",
      "\t194 rows\n",
      "\t81550 columns\n",
      "phosphoproteomics_gene\n",
      "\t194 rows\n",
      "\t6127 columns\n",
      "proteomics\n",
      "\t194 rows\n",
      "\t11710 columns\n",
      "somatic_mutation\n",
      "\t8350 rows\n",
      "\t3 columns\n",
      "transcriptomics\n",
      "\t185 rows\n",
      "\t19275 columns\n"
     ]
    }
   ],
   "source": [
    "cptac.download(dataset=\"Ccrcc\")\n",
    "ccrcc = cptac.Ccrcc()\n",
    "ccrcc.list_data()"
   ]
  },
  {
   "cell_type": "code",
   "execution_count": 167,
   "id": "5cc91ca1",
   "metadata": {},
   "outputs": [],
   "source": [
    "#feature selection \n",
    "clinical_data = ccrcc.get_clinical()\n",
    "#clinical_data\n",
    "\n",
    "protein_data = ccrcc.get_proteomics()\n",
    "protein_data.columns= protein_data.columns.get_level_values(0)\n",
    "\n",
    "\n",
    "rna_data = ccrcc.get_transcriptomics()\n",
    "\n",
    "#rna_data"
   ]
  },
  {
   "cell_type": "code",
   "execution_count": 168,
   "id": "08381e61",
   "metadata": {},
   "outputs": [],
   "source": [
    "#clean clinical data\n",
    "import pandas as pd\n",
    "NaN_mask = clinical_data.loc[:,'tumor_stage_pathological'].isna()\n",
    "\n",
    "\n",
    "clinical_mask = clinical_data.loc[~NaN_mask, :]\n",
    "protein_mask = protein_data.loc[~NaN_mask, :]\n",
    "rna_mask = rna_data.loc[~NaN_mask, :]\n",
    "\n",
    "protein_mask = protein_mask.dropna(axis=1)\n",
    "rna_mask = rna_mask.replace(0, np.nan)\n",
    "rna_mask =rna_mask.dropna(axis=1)"
   ]
  },
  {
   "cell_type": "code",
   "execution_count": 169,
   "id": "8b5d2686",
   "metadata": {},
   "outputs": [
    {
     "data": {
      "text/plain": [
       "<bound method NDFrame.copy of Name       tumor_stage_pathological\n",
       "Patient_ID                         \n",
       "C3L-00004                 Stage III\n",
       "C3L-00010                   Stage I\n",
       "C3L-00011                  Stage IV\n",
       "C3L-00026                   Stage I\n",
       "C3L-00079                 Stage III\n",
       "...                             ...\n",
       "C3N-01646                 Stage III\n",
       "C3N-01648                  Stage II\n",
       "C3N-01649                 Stage III\n",
       "C3N-01651                  Stage II\n",
       "C3N-01808                   Stage I\n",
       "\n",
       "[110 rows x 1 columns]>"
      ]
     },
     "execution_count": 169,
     "metadata": {},
     "output_type": "execute_result"
    }
   ],
   "source": [
    "#feature selection \n",
    "stage_df = clinical_mask[[\"tumor_stage_pathological\"]].copy\n",
    "stage_df"
   ]
  },
  {
   "cell_type": "code",
   "execution_count": 170,
   "id": "3912bac1",
   "metadata": {},
   "outputs": [
    {
     "name": "stdout",
     "output_type": "stream",
     "text": [
      "Name            A1BG      A1CF       A2M     A2ML1    A4GALT     A4GNT  \\\n",
      "Patient_ID                                                               \n",
      "C3L-00004  -0.006744  4.059860  8.464600 -4.422478  4.104075 -0.158254   \n",
      "C3L-00010  -0.557668  4.060282  8.488155 -3.692446  3.761339  0.802391   \n",
      "C3L-00011  -1.495945 -2.025585  7.794905 -4.041315  0.402175 -2.536424   \n",
      "C3L-00026   1.346971  4.031001  7.834675 -3.544831  2.976069  0.534969   \n",
      "C3L-00079   2.122741  2.280647  8.103761 -3.232986  2.778840  1.225325   \n",
      "...              ...       ...       ...       ...       ...       ...   \n",
      "C3N-01646   1.497392  1.443675  8.220375 -3.366738  3.302403 -1.293858   \n",
      "C3N-01648   2.809102 -5.774615  9.454755 -4.092753  2.150166 -1.231377   \n",
      "C3N-01649   1.145973  1.162063  9.264360 -4.332497  3.309683  0.194761   \n",
      "C3N-01651   0.342610  3.734611  8.400793 -2.375570  3.976759 -1.010459   \n",
      "C3N-01808  -0.146368  3.599077  9.040864 -4.160852  3.912500  1.508759   \n",
      "\n",
      "Name            AAAS      AACS     AADAT     AAED1  ...    ZWILCH     ZWINT  \\\n",
      "Patient_ID                                          ...                       \n",
      "C3L-00004   3.984692  1.555104  0.084786  3.398227  ...  1.390769  2.437141   \n",
      "C3L-00010   4.060934  1.657248  0.147394  3.042314  ...  1.522861  3.203153   \n",
      "C3L-00011   4.229401  2.795508  1.147980  2.928801  ...  2.999757  4.847023   \n",
      "C3L-00026   4.141483  2.626441  0.867797  2.955800  ...  1.462019  3.659847   \n",
      "C3L-00079   3.952360  2.196747  1.159946  3.527308  ...  2.906489  3.848089   \n",
      "...              ...       ...       ...       ...  ...       ...       ...   \n",
      "C3N-01646   4.217448  2.961909  2.031663  2.449730  ...  1.132493  2.537067   \n",
      "C3N-01648   4.126045  2.315588  0.022194  3.394811  ...  1.590722  0.870371   \n",
      "C3N-01649   4.136926  1.897113  1.060435  3.692939  ...  1.325394  2.103315   \n",
      "C3N-01651   4.519087  3.090467  0.173780  2.946007  ...  0.666755  2.553257   \n",
      "C3N-01808   4.097538  2.506244  1.610719  3.646476  ...  1.160542  2.249320   \n",
      "\n",
      "Name            ZXDA      ZXDB      ZXDC    ZYG11A    ZYG11B       ZYX  \\\n",
      "Patient_ID                                                               \n",
      "C3L-00004   2.404327  1.899918  3.648622  1.420992  3.963030  3.511191   \n",
      "C3L-00010   1.875526  1.356470  3.762432  2.034738  3.949502  3.529912   \n",
      "C3L-00011   1.486354  1.323840  3.351888 -2.483246  3.544806  3.503609   \n",
      "C3L-00026   2.395618  1.483812  3.422038 -0.320732  3.989812  3.559319   \n",
      "C3L-00079   1.539825  1.273285  3.340213  1.783321  3.678909  4.128858   \n",
      "...              ...       ...       ...       ...       ...       ...   \n",
      "C3N-01646   2.437534  1.296159  4.073846 -0.645664  3.619158  3.274844   \n",
      "C3N-01648   1.759447  1.590888  3.610604 -1.431180  3.858180  4.795772   \n",
      "C3N-01649   2.316370  1.601947  3.360697  0.939067  3.969554  3.645475   \n",
      "C3N-01651   2.533963  1.896851  5.295594 -0.525419  3.520300  4.240461   \n",
      "C3N-01808   2.793353  2.050763  3.161029 -0.197800  4.253809  3.895123   \n",
      "\n",
      "Name           ZZEF1      ZZZ3  \n",
      "Patient_ID                      \n",
      "C3L-00004   3.318604  4.544400  \n",
      "C3L-00010   3.237582  4.685089  \n",
      "C3L-00011   2.757846  5.004080  \n",
      "C3L-00026   3.030328  4.629490  \n",
      "C3L-00079   3.283004  4.616372  \n",
      "...              ...       ...  \n",
      "C3N-01646   3.469266  4.794442  \n",
      "C3N-01648   4.428133  5.390431  \n",
      "C3N-01649   3.478574  4.632455  \n",
      "C3N-01651   3.336584  4.192331  \n",
      "C3N-01808   3.460696  4.677071  \n",
      "\n",
      "[110 rows x 14817 columns]\n"
     ]
    }
   ],
   "source": [
    "#feature selection \n",
    "stage_I = clinical_mask.loc[:, 'tumor_stage_pathological'] == 'Stage I'\n",
    "stage_I\n",
    "\n",
    "stage_III = clinical_mask.loc[:, 'tumor_stage_pathological'] == 'Stage III'\n",
    "stage_III\n",
    "\n",
    "rna_mask = np.log2(rna_mask)\n",
    "print(rna_mask)"
   ]
  },
  {
   "cell_type": "code",
   "execution_count": 175,
   "id": "0c9e62e3",
   "metadata": {},
   "outputs": [
    {
     "name": "stdout",
     "output_type": "stream",
     "text": [
      "Index(['AJAP1', 'DPEP1', 'GALNT5', 'ATRNL1', 'IGF2'], dtype='object', name='Name') Index(['AJAP1', 'DPEP1', 'GALNT5', 'IL20RB', 'RYR2'], dtype='object', name='Name')\n"
     ]
    }
   ],
   "source": [
    "diff_rna1 = rna_mask.loc[stage_I, :].mean() - rna_mask.loc[stage_III, :].mean()\n",
    "#HERE ISSUE IS HERE\n",
    "#rna1_shared_mask = diff_rna1.index.isin(protein_mask.columns)\n",
    "top_51_rna = diff_rna1.sort_values(ascending=False)[:5].index\n",
    "#stage 1 'DAO', 'IYD', 'NOS1', 'HGFAC', 'RTL1'\n",
    "\n",
    "diff_rna3 = rna_mask.loc[stage_III, :].mean() - rna_mask.loc[stage_I, :].mean()\n",
    "#rna3_shared_mask = diff_rna3.index.isin(protein_mask.columns)\n",
    "top_53_rna = np.abs(diff_rna3).sort_values(ascending=False)[:5].index\n",
    "#stage 3 'JSRP1', 'SFRP2', 'SEPT3', 'INHBE', 'TRIM74'\n",
    "print(top_51_rna, top_53_rna)\n",
    "\n",
    "#get top 5 differentially expressed proteins\n",
    "#diff_proteins = protein_mask.loc[stage_I, :].mean()- protein_mask.loc[stage_III, :].mean()\n",
    "#top5_proteins = diff_proteins.sort_values(ascending= False)[:5].index"
   ]
  },
  {
   "cell_type": "code",
   "execution_count": 176,
   "id": "1a7afa69",
   "metadata": {},
   "outputs": [
    {
     "data": {
      "text/html": [
       "<div>\n",
       "<style scoped>\n",
       "    .dataframe tbody tr th:only-of-type {\n",
       "        vertical-align: middle;\n",
       "    }\n",
       "\n",
       "    .dataframe tbody tr th {\n",
       "        vertical-align: top;\n",
       "    }\n",
       "\n",
       "    .dataframe thead th {\n",
       "        text-align: right;\n",
       "    }\n",
       "</style>\n",
       "<table border=\"1\" class=\"dataframe\">\n",
       "  <thead>\n",
       "    <tr style=\"text-align: right;\">\n",
       "      <th>Name</th>\n",
       "      <th>AJAP1</th>\n",
       "      <th>DPEP1</th>\n",
       "      <th>GALNT5</th>\n",
       "      <th>IL20RB</th>\n",
       "      <th>RYR2</th>\n",
       "    </tr>\n",
       "    <tr>\n",
       "      <th>Patient_ID</th>\n",
       "      <th></th>\n",
       "      <th></th>\n",
       "      <th></th>\n",
       "      <th></th>\n",
       "      <th></th>\n",
       "    </tr>\n",
       "  </thead>\n",
       "  <tbody>\n",
       "    <tr>\n",
       "      <th>C3L-00004</th>\n",
       "      <td>-2.519207</td>\n",
       "      <td>-1.239811</td>\n",
       "      <td>-5.281123</td>\n",
       "      <td>2.685910</td>\n",
       "      <td>-0.721420</td>\n",
       "    </tr>\n",
       "    <tr>\n",
       "      <th>C3L-00010</th>\n",
       "      <td>-0.069282</td>\n",
       "      <td>4.515644</td>\n",
       "      <td>-1.685391</td>\n",
       "      <td>0.394540</td>\n",
       "      <td>-2.134346</td>\n",
       "    </tr>\n",
       "    <tr>\n",
       "      <th>C3L-00011</th>\n",
       "      <td>0.411676</td>\n",
       "      <td>-1.955016</td>\n",
       "      <td>-2.430473</td>\n",
       "      <td>5.329663</td>\n",
       "      <td>3.102518</td>\n",
       "    </tr>\n",
       "    <tr>\n",
       "      <th>C3L-00026</th>\n",
       "      <td>0.177869</td>\n",
       "      <td>4.635430</td>\n",
       "      <td>2.729468</td>\n",
       "      <td>1.139609</td>\n",
       "      <td>-1.565029</td>\n",
       "    </tr>\n",
       "    <tr>\n",
       "      <th>C3L-00079</th>\n",
       "      <td>-1.161677</td>\n",
       "      <td>0.376214</td>\n",
       "      <td>-3.413559</td>\n",
       "      <td>0.441469</td>\n",
       "      <td>-0.421905</td>\n",
       "    </tr>\n",
       "    <tr>\n",
       "      <th>...</th>\n",
       "      <td>...</td>\n",
       "      <td>...</td>\n",
       "      <td>...</td>\n",
       "      <td>...</td>\n",
       "      <td>...</td>\n",
       "    </tr>\n",
       "    <tr>\n",
       "      <th>C3N-01646</th>\n",
       "      <td>-1.251963</td>\n",
       "      <td>-0.946572</td>\n",
       "      <td>-0.635367</td>\n",
       "      <td>7.399686</td>\n",
       "      <td>-0.645290</td>\n",
       "    </tr>\n",
       "    <tr>\n",
       "      <th>C3N-01648</th>\n",
       "      <td>-2.212814</td>\n",
       "      <td>2.734819</td>\n",
       "      <td>1.865296</td>\n",
       "      <td>0.789974</td>\n",
       "      <td>-1.221495</td>\n",
       "    </tr>\n",
       "    <tr>\n",
       "      <th>C3N-01649</th>\n",
       "      <td>-0.097150</td>\n",
       "      <td>3.354027</td>\n",
       "      <td>-1.442680</td>\n",
       "      <td>-0.220637</td>\n",
       "      <td>2.057367</td>\n",
       "    </tr>\n",
       "    <tr>\n",
       "      <th>C3N-01651</th>\n",
       "      <td>-3.769215</td>\n",
       "      <td>-0.554359</td>\n",
       "      <td>-1.765596</td>\n",
       "      <td>0.924430</td>\n",
       "      <td>3.111491</td>\n",
       "    </tr>\n",
       "    <tr>\n",
       "      <th>C3N-01808</th>\n",
       "      <td>-0.590156</td>\n",
       "      <td>4.861775</td>\n",
       "      <td>-2.466955</td>\n",
       "      <td>0.540075</td>\n",
       "      <td>-1.611685</td>\n",
       "    </tr>\n",
       "  </tbody>\n",
       "</table>\n",
       "<p>110 rows × 5 columns</p>\n",
       "</div>"
      ],
      "text/plain": [
       "Name           AJAP1     DPEP1    GALNT5    IL20RB      RYR2\n",
       "Patient_ID                                                  \n",
       "C3L-00004  -2.519207 -1.239811 -5.281123  2.685910 -0.721420\n",
       "C3L-00010  -0.069282  4.515644 -1.685391  0.394540 -2.134346\n",
       "C3L-00011   0.411676 -1.955016 -2.430473  5.329663  3.102518\n",
       "C3L-00026   0.177869  4.635430  2.729468  1.139609 -1.565029\n",
       "C3L-00079  -1.161677  0.376214 -3.413559  0.441469 -0.421905\n",
       "...              ...       ...       ...       ...       ...\n",
       "C3N-01646  -1.251963 -0.946572 -0.635367  7.399686 -0.645290\n",
       "C3N-01648  -2.212814  2.734819  1.865296  0.789974 -1.221495\n",
       "C3N-01649  -0.097150  3.354027 -1.442680 -0.220637  2.057367\n",
       "C3N-01651  -3.769215 -0.554359 -1.765596  0.924430  3.111491\n",
       "C3N-01808  -0.590156  4.861775 -2.466955  0.540075 -1.611685\n",
       "\n",
       "[110 rows x 5 columns]"
      ]
     },
     "execution_count": 176,
     "metadata": {},
     "output_type": "execute_result"
    }
   ],
   "source": [
    "x_data = rna_mask[['AJAP1', 'DPEP1', 'GALNT5', 'IL20RB', 'RYR2']]\n",
    "x_data"
   ]
  },
  {
   "cell_type": "code",
   "execution_count": 177,
   "id": "5b53f2b7",
   "metadata": {
    "scrolled": true
   },
   "outputs": [
    {
     "data": {
      "text/plain": [
       "Patient_ID\n",
       "C3L-00004    Stage III\n",
       "C3L-00010      Stage I\n",
       "C3L-00011     Stage IV\n",
       "C3L-00026      Stage I\n",
       "C3L-00079    Stage III\n",
       "               ...    \n",
       "C3N-01646    Stage III\n",
       "C3N-01648     Stage II\n",
       "C3N-01649    Stage III\n",
       "C3N-01651     Stage II\n",
       "C3N-01808      Stage I\n",
       "Name: tumor_stage_pathological, Length: 110, dtype: object"
      ]
     },
     "execution_count": 177,
     "metadata": {},
     "output_type": "execute_result"
    }
   ],
   "source": [
    "y_data = clinical_mask.loc[:,'tumor_stage_pathological']\n",
    "y_data"
   ]
  },
  {
   "cell_type": "code",
   "execution_count": 182,
   "id": "d1c1b8a1",
   "metadata": {},
   "outputs": [
    {
     "name": "stdout",
     "output_type": "stream",
     "text": [
      "Index(['FTL', 'HBZ', 'HBA2', 'CMA1', 'HBB'], dtype='object', name='Name') Index(['FTL', 'HBZ', 'HBA2', 'CMA1', 'HBB'], dtype='object', name='Name')\n"
     ]
    }
   ],
   "source": [
    "from sklearn.preprocessing import StandardScaler\n",
    "from sklearn.preprocessing import LabelEncoder\n",
    "#scaling \n",
    "diff_prot1 = protein_mask.loc[stage_I, :].mean() - protein_mask.loc[stage_III, :].mean()\n",
    "top_51_prot = diff_prot1.sort_values(ascending=False)[:5].index\n",
    "#stage 1 'FTL', 'HBZ', 'HBA2', 'CMA1', 'HBB'\n",
    "\n",
    "diff_prot3 = protein_mask.loc[stage_III, :].mean() - protein_mask.loc[stage_I, :].mean()\n",
    "top_53_prot = np.abs(diff_prot3).sort_values(ascending=False)[:5].index\n",
    "#stage 3 \n",
    "print(top_51_prot, top_53_prot)\n",
    "\n",
    "z_data = protein_mask[['FTL', 'HBZ', 'HBA2', 'CMA1', 'HBB']]\n",
    "z_data\n",
    "\n",
    "cat_x_z = pd.concat([x_data, z_data], axis=1)\n",
    "scaler = StandardScaler()\n",
    "cat_x_z = scaler.fit_transform(cat_x_z)\n",
    "\n",
    "encoder = LabelEncoder()\n",
    "y_data = encoder.fit_transform(y_data)\n",
    "\n",
    "#np.log2(x_data)"
   ]
  },
  {
   "cell_type": "code",
   "execution_count": null,
   "id": "3a751572",
   "metadata": {},
   "outputs": [],
   "source": [
    "from sklearn.neighbors import KNeighborsClassifier\n",
    "from sklearn.tree import DecisionTreeClassifier\n",
    "from sklearn.neural_network import MLPClassifier\n",
    "from sklearn.naive_bayes import GaussianNB"
   ]
  },
  {
   "cell_type": "code",
   "execution_count": null,
   "id": "b7598546",
   "metadata": {},
   "outputs": [],
   "source": [
    "#KNeighborsClassifier \n",
    "classifier = KNeighborsClassifier()\n",
    "X_train, X_test, y_train, y_test = train_test_split(cat_x_z, y_data, train_size=0.75)\n",
    "classifier.fit(X_train, y_train)\n",
    "y_pred = classifier.predict(X_test.to_numpy()) \n"
   ]
  }
 ],
 "metadata": {
  "kernelspec": {
   "display_name": "Python 3 (ipykernel)",
   "language": "python",
   "name": "python3"
  },
  "language_info": {
   "codemirror_mode": {
    "name": "ipython",
    "version": 3
   },
   "file_extension": ".py",
   "mimetype": "text/x-python",
   "name": "python",
   "nbconvert_exporter": "python",
   "pygments_lexer": "ipython3",
   "version": "3.9.18"
  }
 },
 "nbformat": 4,
 "nbformat_minor": 5
}
